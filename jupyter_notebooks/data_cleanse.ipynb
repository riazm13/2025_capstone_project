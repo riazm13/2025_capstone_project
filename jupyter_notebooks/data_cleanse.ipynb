{
 "cells": [
  {
   "cell_type": "code",
   "execution_count": null,
   "metadata": {},
   "outputs": [],
   "source": [
    "import os\n",
    "current_dir = os.getcwd()\n",
    "current_dir"
   ]
  },
  {
   "cell_type": "code",
   "execution_count": null,
   "metadata": {},
   "outputs": [],
   "source": [
    "os.chdir(os.path.dirname(current_dir))\n",
    "print(\"You set a new current directory\")"
   ]
  },
  {
   "cell_type": "code",
   "execution_count": null,
   "metadata": {},
   "outputs": [],
   "source": [
    "current_dir = os.getcwd()\n",
    "current_dir"
   ]
  },
  {
   "cell_type": "code",
   "execution_count": null,
   "metadata": {},
   "outputs": [],
   "source": [
    "import pandas as pd\n",
    "import seaborn as sns\n",
    "import matplotlib.pyplot as plt\n",
    "\n",
    "df = pd.read_csv('/Users/mohammedluqmanriaz/Desktop/Code Instatute/capstone_try_two/2025_capstone_project/jupyter_notebooks/Data_set/transactions.csv')  # Make sure this path is correct\n"
   ]
  },
  {
   "cell_type": "code",
   "execution_count": null,
   "metadata": {},
   "outputs": [],
   "source": [
    "# Function to create a data dictionary\n",
    "def create_data_dictionary(df):\n",
    "    # Optional: Provide known descriptions\n",
    "    descriptions = {\n",
    "        'InvoiceNo': 'Invoice number - 6-digit integral number uniquely assigned to each transaction. If starts with letter \"c\", indicates a cancellation',\n",
    "        'StockCode': 'Product (item) code - 5-digit integral number uniquely assigned to each distinct product',\n",
    "        'Description': 'Product (item) name/description',\n",
    "        'Quantity': 'The quantities of each product (item) per transaction',\n",
    "        'InvoiceDate': 'Invoice date and time - the day and time when each transaction was generated',\n",
    "        'UnitPrice': 'Unit price - product price per unit in sterling (£)',\n",
    "        'CustomerID': '5-digit integral number uniquely assigned to each customer',\n",
    "        'Country': 'Country name - the name of the country where each customer resides'\n",
    "    }\n",
    "\n",
    "    dictionary_data = []\n",
    "    for column in df.columns:\n",
    "        sample_values = df[column].dropna().head(3).tolist()\n",
    "        sample_str = ', '.join([str(x) for x in sample_values])\n",
    "        \n",
    "        dictionary_data.append({\n",
    "            'Column': column,\n",
    "            'Data Type': str(df[column].dtype),\n",
    "            'Missing Values': df[column].isnull().sum(),\n",
    "            'Missing %': round((df[column].isnull().sum() / len(df)) * 100, 2),\n",
    "            'Unique Values': df[column].nunique(),\n",
    "            'Sample Values': sample_str,\n",
    "            'Description': descriptions.get(column, 'Custom/Engineered column - description needed')\n",
    "        })\n",
    "        \n",
    "    return pd.DataFrame(dictionary_data)\n",
    "\n",
    "# Generate the data dictionary\n",
    "raw_data_dictionary = create_data_dictionary(df)\n",
    "\n",
    "# Display or export\n",
    "print(raw_data_dictionary) # This will be removed in the final version\n",
    "# raw_data_dictionary.to_csv('data_dictionary.csv', index=False) # Uncomment to save to CSV"
   ]
  },
  {
   "cell_type": "code",
   "execution_count": null,
   "metadata": {},
   "outputs": [],
   "source": [
    "# Check for duplicate customer IDs\n",
    "duplicate_customer_ids = df[df.duplicated(subset='customer_id', keep=False)]\n",
    "duplicate_customer_count = duplicate_customer_ids['customer_id'].nunique()\n",
    "print(f\"\\nNumber of duplicate customer IDs: {duplicate_customer_count}\")\n",
    "print(\"Duplicate customer ID records:\")\n",
    "print(duplicate_customer_ids.sort_values(by='customer_id').head(10))  # Display first 10 for brevity\n",
    "\n",
    "# Check for duplicate transaction IDs\n",
    "duplicate_transaction_ids = df[df.duplicated(subset='transaction_id', keep=False)]\n",
    "duplicate_transaction_count = duplicate_transaction_ids['transaction_id'].nunique()\n",
    "print(f\"\\nNumber of duplicate transaction IDs: {duplicate_transaction_count}\")\n",
    "if duplicate_transaction_count > 0:\n",
    "    print(\"Duplicate transaction ID records:\")\n",
    "    print(duplicate_transaction_ids.sort_values(by='transaction_id'))\n",
    "else:\n",
    "    print(\"No duplicate transaction IDs found.\")"
   ]
  }
 ],
 "metadata": {
  "language_info": {
   "name": "python"
  }
 },
 "nbformat": 4,
 "nbformat_minor": 2
}
