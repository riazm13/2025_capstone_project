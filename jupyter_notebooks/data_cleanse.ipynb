{
 "cells": [
  {
   "cell_type": "markdown",
   "metadata": {},
   "source": [
    "# This code was adapted and changed from content in the Code Institute LMS\n",
    "Credits:\n",
    "- I referenced my team's hackathon project to help to structure my project"
   ]
  },
  {
   "cell_type": "code",
   "execution_count": null,
   "metadata": {},
   "outputs": [],
   "source": [
    "import os\n",
    "current_dir = os.getcwd()\n",
    "current_dir"
   ]
  },
  {
   "cell_type": "code",
   "execution_count": null,
   "metadata": {},
   "outputs": [],
   "source": [
    "os.chdir(os.path.dirname(current_dir))\n",
    "print(\"You set a new current directory\")"
   ]
  },
  {
   "cell_type": "code",
   "execution_count": null,
   "metadata": {},
   "outputs": [],
   "source": [
    "current_dir = os.getcwd()\n",
    "current_dir"
   ]
  },
  {
   "cell_type": "code",
   "execution_count": null,
   "metadata": {},
   "outputs": [],
   "source": [
    "import pandas as pd\n",
    "import seaborn as sns\n",
    "import matplotlib.pyplot as plt\n",
    "\n",
    "df = pd.read_csv('jupyter_notebooks/Data_set/transactions.csv')  # Make sure this path is correct\n"
   ]
  },
  {
   "cell_type": "code",
   "execution_count": null,
   "metadata": {},
   "outputs": [],
   "source": [
    "# Updated function to create a data dictionary\n",
    "def create_data_dictionary(df):\n",
    "    descriptions = {\n",
    "        'transaction_id': 'Unique identifier for each transaction',\n",
    "        'customer_id': 'Unique identifier assigned to each customer (e.g., CUSTXXXXX)',\n",
    "        'transaction_date': 'Date and time when the transaction occurred',\n",
    "        'transaction_type': 'Type of transaction (e.g., UPI, Debit Card, Bill Payment)',\n",
    "        'transaction_amount': 'Amount involved in the transaction'\n",
    "    }\n",
    "\n",
    "    dictionary_data = []\n",
    "    for column in df.columns:\n",
    "        sample_values = df[column].dropna().head(3).tolist()\n",
    "        sample_str = ', '.join([str(x) for x in sample_values])\n",
    "        \n",
    "        dictionary_data.append({\n",
    "            'Column': column,\n",
    "            'Data Type': str(df[column].dtype),\n",
    "            'Missing Values': df[column].isnull().sum(),\n",
    "            'Missing %': round((df[column].isnull().sum() / len(df)) * 100, 2),\n",
    "            'Unique Values': df[column].nunique(),\n",
    "            'Sample Values': sample_str,\n",
    "            'Description': descriptions.get(column, 'Custom/Engineered column - description needed')\n",
    "        })\n",
    "        \n",
    "    return pd.DataFrame(dictionary_data)\n",
    "\n",
    "# Generate and display the data dictionary\n",
    "raw_data_dictionary = create_data_dictionary(df)\n",
    "print(raw_data_dictionary)\n",
    "\n",
    "# Optional: Save to file\n",
    "# raw_data_dictionary.to_csv('data_dictionary.csv', index=False)"
   ]
  },
  {
   "cell_type": "code",
   "execution_count": null,
   "metadata": {},
   "outputs": [],
   "source": [
    "# Check for duplicate customer IDs\n",
    "duplicate_customer_ids = df[df.duplicated(subset='customer_id', keep=False)]\n",
    "duplicate_customer_count = duplicate_customer_ids['customer_id'].nunique()\n",
    "print(f\"\\nNumber of duplicate customer IDs: {duplicate_customer_count}\")\n",
    "print(\"Duplicate customer ID records:\")\n",
    "print(duplicate_customer_ids.sort_values(by='customer_id').head(10))  # Display first 10 for brevity\n",
    "\n",
    "# Check for duplicate transaction IDs\n",
    "duplicate_transaction_ids = df[df.duplicated(subset='transaction_id', keep=False)]\n",
    "duplicate_transaction_count = duplicate_transaction_ids['transaction_id'].nunique()\n",
    "print(f\"\\nNumber of duplicate transaction IDs: {duplicate_transaction_count}\")\n",
    "if duplicate_transaction_count > 0:\n",
    "    print(\"Duplicate transaction ID records:\")\n",
    "    print(duplicate_transaction_ids.sort_values(by='transaction_id'))\n",
    "else:\n",
    "    print(\"No duplicate transaction IDs found.\")"
   ]
  },
  {
   "cell_type": "markdown",
   "metadata": {},
   "source": [
    "\n",
    "Decide:\n",
    "\n",
    "Drop rows/columns\n",
    "\n",
    "Fill with mean/median/mode/forward-fill (for time series)\n",
    "\n",
    "Impute or flag as unknown\n",
    "\n"
   ]
  },
  {
   "cell_type": "code",
   "execution_count": null,
   "metadata": {},
   "outputs": [],
   "source": [
    "df.isnull().sum()"
   ]
  },
  {
   "cell_type": "markdown",
   "metadata": {},
   "source": [
    "✅ 2. Check for Duplicates\n",
    "You've already done this, but to summarize:\n",
    "\n",
    "Check for duplicate rows entirely:\n",
    "\n",
    "python\n",
    "\n",
    "Edit\n",
    "df.duplicated().sum()\n",
    "Remove them if necessary:\n",
    "\n",
    "python\n",
    "\n",
    "df = df.drop_duplicates()"
   ]
  },
  {
   "cell_type": "code",
   "execution_count": null,
   "metadata": {},
   "outputs": [],
   "source": [
    "df.duplicated().sum()"
   ]
  },
  {
   "cell_type": "markdown",
   "metadata": {},
   "source": [
    "Validate Data Types"
   ]
  },
  {
   "cell_type": "markdown",
   "metadata": {},
   "source": [
    "df.dtypes"
   ]
  },
  {
   "cell_type": "markdown",
   "metadata": {},
   "source": [
    "Convert date strings to datetime\n"
   ]
  },
  {
   "cell_type": "code",
   "execution_count": null,
   "metadata": {},
   "outputs": [],
   "source": [
    "df['transaction_date'] = pd.to_datetime(df['transaction_date'])"
   ]
  },
  {
   "cell_type": "markdown",
   "metadata": {},
   "source": [
    "Check for Outliers in Numeric Columns\n",
    "within the transaction amount"
   ]
  },
  {
   "cell_type": "code",
   "execution_count": null,
   "metadata": {},
   "outputs": [],
   "source": [
    "sns.boxplot(x=df['transaction_amount'])\n",
    "plt.show()"
   ]
  },
  {
   "cell_type": "markdown",
   "metadata": {},
   "source": [
    "Check for Invalid or Inconsistent Entries\n",
    "Negative amounts? (e.g., refunds or errors)\n",
    "\n",
    "Unrecognized transaction types?"
   ]
  },
  {
   "cell_type": "code",
   "execution_count": null,
   "metadata": {},
   "outputs": [],
   "source": [
    "df['transaction_type'].value_counts()\n",
    "df[~df['customer_id'].str.startswith('CUST')]"
   ]
  },
  {
   "cell_type": "markdown",
   "metadata": {},
   "source": [
    "Standardize Categorical Values\n",
    "Make sure categories are consistent:"
   ]
  },
  {
   "cell_type": "code",
   "execution_count": null,
   "metadata": {},
   "outputs": [],
   "source": [
    "df['transaction_type'] = df['transaction_type'].str.strip().str.title()"
   ]
  },
  {
   "cell_type": "markdown",
   "metadata": {},
   "source": [
    "Check Date Ranges\n",
    "Ensure transaction_date is within expected limits (e.g., not in the future):"
   ]
  },
  {
   "cell_type": "code",
   "execution_count": null,
   "metadata": {},
   "outputs": [],
   "source": [
    "df[df['transaction_date'] > pd.Timestamp.today()]"
   ]
  },
  {
   "cell_type": "markdown",
   "metadata": {},
   "source": [
    "Remove Unnecessary Columns\n",
    "If there are columns that:\n",
    "\n",
    "Contain only one value\n",
    "\n",
    "Are irrelevant to your analysis\n",
    "\n",
    "You can remove them:"
   ]
  },
  {
   "cell_type": "code",
   "execution_count": null,
   "metadata": {},
   "outputs": [],
   "source": [
    "#df = df.drop(columns=['column_name'])"
   ]
  },
  {
   "cell_type": "markdown",
   "metadata": {},
   "source": [
    "Handle Zero or Near-Zero Variance Columns\n",
    "Columns with almost no variance may not be useful:"
   ]
  },
  {
   "cell_type": "code",
   "execution_count": null,
   "metadata": {},
   "outputs": [],
   "source": [
    "df.nunique()"
   ]
  },
  {
   "cell_type": "code",
   "execution_count": null,
   "metadata": {},
   "outputs": [],
   "source": []
  }
 ],
 "metadata": {
  "kernelspec": {
   "display_name": "Python 3",
   "language": "python",
   "name": "python3"
  },
  "language_info": {
   "codemirror_mode": {
    "name": "ipython",
    "version": 3
   },
   "file_extension": ".py",
   "mimetype": "text/x-python",
   "name": "python",
   "nbconvert_exporter": "python",
   "pygments_lexer": "ipython3",
   "version": "3.12.8"
  }
 },
 "nbformat": 4,
 "nbformat_minor": 2
}
