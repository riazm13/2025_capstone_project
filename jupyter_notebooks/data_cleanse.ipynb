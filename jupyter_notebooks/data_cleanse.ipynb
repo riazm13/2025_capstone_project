{
 "cells": [
  {
   "cell_type": "markdown",
   "metadata": {},
   "source": [
    "# This code was adapted and changed from content in the Code Institute LMS\n",
    "Credits:\n",
    "- I referenced my team's hackathon project to help to structure my project"
   ]
  },
  {
   "cell_type": "code",
   "execution_count": 1,
   "metadata": {},
   "outputs": [
    {
     "data": {
      "text/plain": [
       "'/Users/mohammedluqmanriaz/Desktop/Code Instatute/capstone_try_two/2025_capstone_project/jupyter_notebooks'"
      ]
     },
     "execution_count": 1,
     "metadata": {},
     "output_type": "execute_result"
    }
   ],
   "source": [
    "import os\n",
    "current_dir = os.getcwd()\n",
    "current_dir"
   ]
  },
  {
   "cell_type": "code",
   "execution_count": 2,
   "metadata": {},
   "outputs": [
    {
     "name": "stdout",
     "output_type": "stream",
     "text": [
      "You set a new current directory\n"
     ]
    }
   ],
   "source": [
    "os.chdir(os.path.dirname(current_dir))\n",
    "print(\"You set a new current directory\")"
   ]
  },
  {
   "cell_type": "code",
   "execution_count": 3,
   "metadata": {},
   "outputs": [
    {
     "data": {
      "text/plain": [
       "'/Users/mohammedluqmanriaz/Desktop/Code Instatute/capstone_try_two/2025_capstone_project'"
      ]
     },
     "execution_count": 3,
     "metadata": {},
     "output_type": "execute_result"
    }
   ],
   "source": [
    "current_dir = os.getcwd()\n",
    "current_dir"
   ]
  },
  {
   "cell_type": "code",
   "execution_count": 4,
   "metadata": {},
   "outputs": [],
   "source": [
    "import pandas as pd\n",
    "import seaborn as sns\n",
    "import matplotlib.pyplot as plt\n",
    "\n",
    "df = pd.read_csv('jupyter_notebooks/Data_set/transactions.csv')  # Make sure this path is correct\n"
   ]
  },
  {
   "cell_type": "code",
   "execution_count": 5,
   "metadata": {},
   "outputs": [
    {
     "name": "stdout",
     "output_type": "stream",
     "text": [
      "                               Column Data Type  Missing Values  Missing %  \\\n",
      "0                      transaction_id    object               0        0.0   \n",
      "1                         customer_id    object               0        0.0   \n",
      "2                    transaction_date    object               0        0.0   \n",
      "3                    transaction_type    object               0        0.0   \n",
      "4                  transaction_amount   float64               0        0.0   \n",
      "5                   merchant_category    object               0        0.0   \n",
      "6                       merchant_name    object               0        0.0   \n",
      "7                transaction_location    object               0        0.0   \n",
      "8   account_balance_after_transaction   float64               0        0.0   \n",
      "9        is_international_transaction     int64               0        0.0   \n",
      "10                        device_used    object               0        0.0   \n",
      "11                         ip_address    object               0        0.0   \n",
      "12                 transaction_status    object               0        0.0   \n",
      "13     transaction_source_destination    object               0        0.0   \n",
      "14                  transaction_notes    object               0        0.0   \n",
      "15                         fraud_flag     int64               0        0.0   \n",
      "\n",
      "    Unique Values                                      Sample Values  \\\n",
      "0           50000  2d7ddfd4-1112-4354-a2dd-fad94b45a850, ba998721...   \n",
      "1           18318                 CUST102188, CUST107144, CUST102126   \n",
      "2           30012  2022-01-04 11:27:00, 2022-01-03 23:52:00, 2022...   \n",
      "3              10                      Bill Payment, UPI, Debit Card   \n",
      "4             639                             2100.0, 1400.0, 1000.0   \n",
      "5              12                      Dining, Travel, Entertainment   \n",
      "6           35312  Rattan, Khanna and Magar, Chauhan LLC, Halder-...   \n",
      "7            8823  Srikakulam, Himachal Pradesh, Giridih, Manipur...   \n",
      "8           30267                           8211.0, 12858.0, 19268.0   \n",
      "9               2                                            0, 0, 0   \n",
      "10              4                                      Web, Web, ATM   \n",
      "11          50000      31.102.21.141, 176.48.222.166, 181.62.105.161   \n",
      "12              2                          Success, Success, Success   \n",
      "13          39993  BCHG80012468703731, CJPZ11841095072972, TLCG50...   \n",
      "14             12  Payment for Dining, Payment for Travel, Paymen...   \n",
      "15              2                                            0, 0, 0   \n",
      "\n",
      "                                          Description  \n",
      "0              Unique identifier for each transaction  \n",
      "1   Unique identifier assigned to each customer (e...  \n",
      "2         Date and time when the transaction occurred  \n",
      "3   Type of transaction (e.g., UPI, Debit Card, Bi...  \n",
      "4                  Amount involved in the transaction  \n",
      "5       Custom/Engineered column - description needed  \n",
      "6       Custom/Engineered column - description needed  \n",
      "7       Custom/Engineered column - description needed  \n",
      "8       Custom/Engineered column - description needed  \n",
      "9       Custom/Engineered column - description needed  \n",
      "10      Custom/Engineered column - description needed  \n",
      "11      Custom/Engineered column - description needed  \n",
      "12      Custom/Engineered column - description needed  \n",
      "13      Custom/Engineered column - description needed  \n",
      "14      Custom/Engineered column - description needed  \n",
      "15      Custom/Engineered column - description needed  \n"
     ]
    }
   ],
   "source": [
    "# Updated function to create a data dictionary\n",
    "def create_data_dictionary(df):\n",
    "    descriptions = {\n",
    "        'transaction_id': 'Unique identifier for each transaction',\n",
    "        'customer_id': 'Unique identifier assigned to each customer (e.g., CUSTXXXXX)',\n",
    "        'transaction_date': 'Date and time when the transaction occurred',\n",
    "        'transaction_type': 'Type of transaction (e.g., UPI, Debit Card, Bill Payment)',\n",
    "        'transaction_amount': 'Amount involved in the transaction'\n",
    "    }\n",
    "\n",
    "    dictionary_data = []\n",
    "    for column in df.columns:\n",
    "        sample_values = df[column].dropna().head(3).tolist()\n",
    "        sample_str = ', '.join([str(x) for x in sample_values])\n",
    "        \n",
    "        dictionary_data.append({\n",
    "            'Column': column,\n",
    "            'Data Type': str(df[column].dtype),\n",
    "            'Missing Values': df[column].isnull().sum(),\n",
    "            'Missing %': round((df[column].isnull().sum() / len(df)) * 100, 2),\n",
    "            'Unique Values': df[column].nunique(),\n",
    "            'Sample Values': sample_str,\n",
    "            'Description': descriptions.get(column, 'Custom/Engineered column - description needed')\n",
    "        })\n",
    "        \n",
    "    return pd.DataFrame(dictionary_data)\n",
    "\n",
    "# Generate and display the data dictionary\n",
    "raw_data_dictionary = create_data_dictionary(df)\n",
    "print(raw_data_dictionary)\n",
    "\n",
    "# Optional: Save to file\n",
    "# raw_data_dictionary.to_csv('data_dictionary.csv', index=False)"
   ]
  },
  {
   "cell_type": "code",
   "execution_count": 6,
   "metadata": {},
   "outputs": [
    {
     "name": "stdout",
     "output_type": "stream",
     "text": [
      "\n",
      "Number of duplicate customer IDs: 14256\n",
      "Duplicate customer ID records:\n",
      "                             transaction_id customer_id     transaction_date  \\\n",
      "40586  832f55da-cf8c-4631-9056-d93e9c3b69df  CUST100000  2022-01-15 19:37:00   \n",
      "8200   ee57f580-a235-48b8-a562-bdfc09061af4  CUST100000  2022-01-20 15:33:00   \n",
      "32002  eacc300c-a6f4-4c24-9e33-734618fbc363  CUST100001  2022-01-20 19:20:00   \n",
      "40783  dcefbaad-116c-446b-9a53-2fefa2c93ab3  CUST100001  2022-01-04 18:10:00   \n",
      "27843  ec304a78-a139-4b56-a6f3-a56a6f9a965c  CUST100001  2022-01-25 17:19:00   \n",
      "37407  6c3aa45b-6723-4317-9b1b-fb1e7884a2d3  CUST100003  2022-01-04 17:27:00   \n",
      "26373  0392509a-fcc9-4d11-9130-784af62f3b2b  CUST100003  2022-01-25 09:15:00   \n",
      "31660  e67bc3a2-f581-4741-be79-233b4c1c2691  CUST100003  2022-01-01 05:18:00   \n",
      "32667  03a54f00-fa13-41a5-ad5e-f4974aa606ba  CUST100005  2022-01-18 11:15:00   \n",
      "7140   db28cc87-b314-41b0-8e2c-d113ebb365ad  CUST100005  2022-01-21 03:28:00   \n",
      "\n",
      "        transaction_type  transaction_amount   merchant_category  \\\n",
      "40586        Credit Card               200.0          Healthcare   \n",
      "8200         Credit Card              2500.0         Electronics   \n",
      "32002            Deposit              6600.0     Cash Withdrawal   \n",
      "40783      Fund Transfer              1400.0          Healthcare   \n",
      "27843         Debit Card             15200.0  Financial Services   \n",
      "37407  Loan Disbursement              1200.0          Healthcare   \n",
      "26373        Credit Card             10100.0           Utilities   \n",
      "31660      Fund Transfer              1900.0                Fuel   \n",
      "32667         Debit Card              4200.0          Healthcare   \n",
      "7140       Fund Transfer             10500.0       Entertainment   \n",
      "\n",
      "                              merchant_name       transaction_location  \\\n",
      "40586                          Madan-Sarraf           Singrauli, Assam   \n",
      "8200   Viswanathan, Subramaniam and Kashyap            Howrah, Mizoram   \n",
      "32002         Bhatnagar, Solanki and Badami        Karimnagar, Tripura   \n",
      "40783                          Dyal-Agrawal    Barasat, Madhya Pradesh   \n",
      "27843                               Lad Ltd         Vijayawada, Kerala   \n",
      "37407                          Saxena Group  Bhalswa Jahangir Pur, Goa   \n",
      "26373                    Sawhney-Brahmbhatt         Mehsana, Rajasthan   \n",
      "31660                               Raj PLC             Gwalior, Bihar   \n",
      "32667                            Iyer Group             Jaunpur, Assam   \n",
      "7140                            Chhabra Inc       Gangtok, West Bengal   \n",
      "\n",
      "       account_balance_after_transaction  is_international_transaction  \\\n",
      "40586                            17416.0                             0   \n",
      "8200                                 0.0                             0   \n",
      "32002                             7849.0                             0   \n",
      "40783                            22173.0                             0   \n",
      "27843                            24469.0                             0   \n",
      "37407                             1957.0                             0   \n",
      "26373                            22404.0                             0   \n",
      "31660                            32300.0                             0   \n",
      "32667                                0.0                             0   \n",
      "7140                             23229.0                             0   \n",
      "\n",
      "      device_used       ip_address transaction_status  \\\n",
      "40586      Mobile     99.17.178.43            Success   \n",
      "8200          POS    43.14.143.156            Success   \n",
      "32002         Web    142.42.18.169            Success   \n",
      "40783         POS  125.222.220.107            Success   \n",
      "27843         ATM   156.121.57.155            Success   \n",
      "37407         POS    69.38.134.102            Success   \n",
      "26373         ATM    25.183.190.30            Success   \n",
      "31660         POS    244.208.20.49            Success   \n",
      "32667         POS    122.139.175.2            Success   \n",
      "7140       Mobile  198.183.145.123            Success   \n",
      "\n",
      "      transaction_source_destination               transaction_notes  \\\n",
      "40586             LZYN62755955121431          Payment for Healthcare   \n",
      "8200              NUSX38958655502228         Payment for Electronics   \n",
      "32002                           Self     Payment for Cash Withdrawal   \n",
      "40783             XDDS85345915700667          Payment for Healthcare   \n",
      "27843             DODF36095517568047  Payment for Financial Services   \n",
      "37407             JRMR79857547818078          Payment for Healthcare   \n",
      "26373             KEBQ27732251865309           Payment for Utilities   \n",
      "31660             DYBS64481944462911                Payment for Fuel   \n",
      "32667             LOQK18049664413782          Payment for Healthcare   \n",
      "7140              YCBW18986576678125       Payment for Entertainment   \n",
      "\n",
      "       fraud_flag  \n",
      "40586           0  \n",
      "8200            0  \n",
      "32002           0  \n",
      "40783           0  \n",
      "27843           0  \n",
      "37407           0  \n",
      "26373           0  \n",
      "31660           0  \n",
      "32667           0  \n",
      "7140            0  \n",
      "\n",
      "Number of duplicate transaction IDs: 0\n",
      "No duplicate transaction IDs found.\n"
     ]
    }
   ],
   "source": [
    "# Check for duplicate customer IDs\n",
    "duplicate_customer_ids = df[df.duplicated(subset='customer_id', keep=False)]\n",
    "duplicate_customer_count = duplicate_customer_ids['customer_id'].nunique()\n",
    "print(f\"\\nNumber of duplicate customer IDs: {duplicate_customer_count}\")\n",
    "print(\"Duplicate customer ID records:\")\n",
    "print(duplicate_customer_ids.sort_values(by='customer_id').head(10))  # Display first 10 for brevity\n",
    "\n",
    "# Check for duplicate transaction IDs\n",
    "duplicate_transaction_ids = df[df.duplicated(subset='transaction_id', keep=False)]\n",
    "duplicate_transaction_count = duplicate_transaction_ids['transaction_id'].nunique()\n",
    "print(f\"\\nNumber of duplicate transaction IDs: {duplicate_transaction_count}\")\n",
    "if duplicate_transaction_count > 0:\n",
    "    print(\"Duplicate transaction ID records:\")\n",
    "    print(duplicate_transaction_ids.sort_values(by='transaction_id'))\n",
    "else:\n",
    "    print(\"No duplicate transaction IDs found.\")"
   ]
  },
  {
   "cell_type": "markdown",
   "metadata": {},
   "source": [
    "\n",
    "Decide:\n",
    "\n",
    "Drop rows/columns\n",
    "\n",
    "Fill with mean/median/mode/forward-fill (for time series)\n",
    "\n",
    "Impute or flag as unknown\n",
    "\n"
   ]
  },
  {
   "cell_type": "code",
   "execution_count": 7,
   "metadata": {},
   "outputs": [
    {
     "data": {
      "text/plain": [
       "transaction_id                       0\n",
       "customer_id                          0\n",
       "transaction_date                     0\n",
       "transaction_type                     0\n",
       "transaction_amount                   0\n",
       "merchant_category                    0\n",
       "merchant_name                        0\n",
       "transaction_location                 0\n",
       "account_balance_after_transaction    0\n",
       "is_international_transaction         0\n",
       "device_used                          0\n",
       "ip_address                           0\n",
       "transaction_status                   0\n",
       "transaction_source_destination       0\n",
       "transaction_notes                    0\n",
       "fraud_flag                           0\n",
       "dtype: int64"
      ]
     },
     "execution_count": 7,
     "metadata": {},
     "output_type": "execute_result"
    }
   ],
   "source": [
    "df.isnull().sum()"
   ]
  },
  {
   "cell_type": "markdown",
   "metadata": {},
   "source": [
    "✅ 2. Check for Duplicates\n",
    "You've already done this, but to summarize:\n",
    "\n",
    "Check for duplicate rows entirely:\n",
    "\n",
    "python\n",
    "\n",
    "Edit\n",
    "df.duplicated().sum()\n",
    "Remove them if necessary:\n",
    "\n",
    "python\n",
    "\n",
    "df = df.drop_duplicates()"
   ]
  },
  {
   "cell_type": "code",
   "execution_count": 8,
   "metadata": {},
   "outputs": [
    {
     "data": {
      "text/plain": [
       "0"
      ]
     },
     "execution_count": 8,
     "metadata": {},
     "output_type": "execute_result"
    }
   ],
   "source": [
    "df.duplicated().sum()"
   ]
  },
  {
   "cell_type": "markdown",
   "metadata": {},
   "source": [
    "Validate Data Types"
   ]
  },
  {
   "cell_type": "markdown",
   "metadata": {},
   "source": [
    "df.dtypes"
   ]
  },
  {
   "cell_type": "markdown",
   "metadata": {},
   "source": [
    "Convert date strings to datetime\n"
   ]
  },
  {
   "cell_type": "code",
   "execution_count": 9,
   "metadata": {},
   "outputs": [],
   "source": [
    "df['transaction_date'] = pd.to_datetime(df['transaction_date'])"
   ]
  },
  {
   "cell_type": "markdown",
   "metadata": {},
   "source": [
    "Check for Outliers in Numeric Columns\n",
    "within the transaction amount"
   ]
  },
  {
   "cell_type": "code",
   "execution_count": 10,
   "metadata": {},
   "outputs": [
    {
     "data": {
      "image/png": "[encoded data removed]",
      "text/plain": [
       "<Figure size 640x480 with 1 Axes>"
      ]
     },
     "metadata": {},
     "output_type": "display_data"
    }
   ],
   "source": [
    "sns.boxplot(x=df['transaction_amount'])\n",
    "plt.show()"
   ]
  },
  {
   "cell_type": "markdown",
   "metadata": {},
   "source": [
    "Check for Invalid or Inconsistent Entries\n",
    "Negative amounts? (e.g., refunds or errors)\n",
    "\n",
    "Unrecognized transaction types?"
   ]
  },
  {
   "cell_type": "code",
   "execution_count": 11,
   "metadata": {},
   "outputs": [
    {
     "data": {
      "text/html": [
       "<div>\n",
       "<style scoped>\n",
       "    .dataframe tbody tr th:only-of-type {\n",
       "        vertical-align: middle;\n",
       "    }\n",
       "\n",
       "    .dataframe tbody tr th {\n",
       "        vertical-align: top;\n",
       "    }\n",
       "\n",
       "    .dataframe thead th {\n",
       "        text-align: right;\n",
       "    }\n",
       "</style>\n",
       "<table border=\"1\" class=\"dataframe\">\n",
       "  <thead>\n",
       "    <tr style=\"text-align: right;\">\n",
       "      <th></th>\n",
       "      <th>transaction_id</th>\n",
       "      <th>customer_id</th>\n",
       "      <th>transaction_date</th>\n",
       "      <th>transaction_type</th>\n",
       "      <th>transaction_amount</th>\n",
       "      <th>merchant_category</th>\n",
       "      <th>merchant_name</th>\n",
       "      <th>transaction_location</th>\n",
       "      <th>account_balance_after_transaction</th>\n",
       "      <th>is_international_transaction</th>\n",
       "      <th>device_used</th>\n",
       "      <th>ip_address</th>\n",
       "      <th>transaction_status</th>\n",
       "      <th>transaction_source_destination</th>\n",
       "      <th>transaction_notes</th>\n",
       "      <th>fraud_flag</th>\n",
       "    </tr>\n",
       "  </thead>\n",
       "  <tbody>\n",
       "  </tbody>\n",
       "</table>\n",
       "</div>"
      ],
      "text/plain": [
       "Empty DataFrame\n",
       "Columns: [transaction_id, customer_id, transaction_date, transaction_type, transaction_amount, merchant_category, merchant_name, transaction_location, account_balance_after_transaction, is_international_transaction, device_used, ip_address, transaction_status, transaction_source_destination, transaction_notes, fraud_flag]\n",
       "Index: []"
      ]
     },
     "execution_count": 11,
     "metadata": {},
     "output_type": "execute_result"
    }
   ],
   "source": [
    "df['transaction_type'].value_counts()\n",
    "df[~df['customer_id'].str.startswith('CUST')]"
   ]
  },
  {
   "cell_type": "markdown",
   "metadata": {},
   "source": [
    "Standardize Categorical Values\n",
    "Make sure categories are consistent:"
   ]
  },
  {
   "cell_type": "code",
   "execution_count": 12,
   "metadata": {},
   "outputs": [],
   "source": [
    "df['transaction_type'] = df['transaction_type'].str.strip().str.title()"
   ]
  },
  {
   "cell_type": "markdown",
   "metadata": {},
   "source": [
    "Check Date Ranges\n",
    "Ensure transaction_date is within expected limits (e.g., not in the future):"
   ]
  },
  {
   "cell_type": "code",
   "execution_count": 13,
   "metadata": {},
   "outputs": [
    {
     "data": {
      "text/html": [
       "<div>\n",
       "<style scoped>\n",
       "    .dataframe tbody tr th:only-of-type {\n",
       "        vertical-align: middle;\n",
       "    }\n",
       "\n",
       "    .dataframe tbody tr th {\n",
       "        vertical-align: top;\n",
       "    }\n",
       "\n",
       "    .dataframe thead th {\n",
       "        text-align: right;\n",
       "    }\n",
       "</style>\n",
       "<table border=\"1\" class=\"dataframe\">\n",
       "  <thead>\n",
       "    <tr style=\"text-align: right;\">\n",
       "      <th></th>\n",
       "      <th>transaction_id</th>\n",
       "      <th>customer_id</th>\n",
       "      <th>transaction_date</th>\n",
       "      <th>transaction_type</th>\n",
       "      <th>transaction_amount</th>\n",
       "      <th>merchant_category</th>\n",
       "      <th>merchant_name</th>\n",
       "      <th>transaction_location</th>\n",
       "      <th>account_balance_after_transaction</th>\n",
       "      <th>is_international_transaction</th>\n",
       "      <th>device_used</th>\n",
       "      <th>ip_address</th>\n",
       "      <th>transaction_status</th>\n",
       "      <th>transaction_source_destination</th>\n",
       "      <th>transaction_notes</th>\n",
       "      <th>fraud_flag</th>\n",
       "    </tr>\n",
       "  </thead>\n",
       "  <tbody>\n",
       "  </tbody>\n",
       "</table>\n",
       "</div>"
      ],
      "text/plain": [
       "Empty DataFrame\n",
       "Columns: [transaction_id, customer_id, transaction_date, transaction_type, transaction_amount, merchant_category, merchant_name, transaction_location, account_balance_after_transaction, is_international_transaction, device_used, ip_address, transaction_status, transaction_source_destination, transaction_notes, fraud_flag]\n",
       "Index: []"
      ]
     },
     "execution_count": 13,
     "metadata": {},
     "output_type": "execute_result"
    }
   ],
   "source": [
    "df[df['transaction_date'] > pd.Timestamp.today()]"
   ]
  },
  {
   "cell_type": "markdown",
   "metadata": {},
   "source": [
    "Remove Unnecessary Columns\n",
    "If there are columns that:\n",
    "\n",
    "Contain only one value\n",
    "\n",
    "Are irrelevant to your analysis\n",
    "\n",
    "You can remove them:"
   ]
  },
  {
   "cell_type": "code",
   "execution_count": 14,
   "metadata": {},
   "outputs": [],
   "source": [
    "#df = df.drop(columns=['column_name'])"
   ]
  },
  {
   "cell_type": "markdown",
   "metadata": {},
   "source": [
    "Handle Zero or Near-Zero Variance Columns\n",
    "Columns with almost no variance may not be useful:"
   ]
  },
  {
   "cell_type": "code",
   "execution_count": 15,
   "metadata": {},
   "outputs": [
    {
     "data": {
      "text/plain": [
       "transaction_id                       50000\n",
       "customer_id                          18318\n",
       "transaction_date                     30012\n",
       "transaction_type                        10\n",
       "transaction_amount                     639\n",
       "merchant_category                       12\n",
       "merchant_name                        35312\n",
       "transaction_location                  8823\n",
       "account_balance_after_transaction    30267\n",
       "is_international_transaction             2\n",
       "device_used                              4\n",
       "ip_address                           50000\n",
       "transaction_status                       2\n",
       "transaction_source_destination       39993\n",
       "transaction_notes                       12\n",
       "fraud_flag                               2\n",
       "dtype: int64"
      ]
     },
     "execution_count": 15,
     "metadata": {},
     "output_type": "execute_result"
    }
   ],
   "source": [
    "df.nunique()"
   ]
  },
  {
   "cell_type": "code",
   "execution_count": 16,
   "metadata": {},
   "outputs": [],
   "source": [
    "df.to_csv('jupyter_notebooks/Data_set/transactions_clean.csv', index=False)"
   ]
  }
 ],
 "metadata": {
  "kernelspec": {
   "display_name": "Python 3",
   "language": "python",
   "name": "python3"
  },
  "language_info": {
   "codemirror_mode": {
    "name": "ipython",
    "version": 3
   },
   "file_extension": ".py",
   "mimetype": "text/x-python",
   "name": "python",
   "nbconvert_exporter": "python",
   "pygments_lexer": "ipython3",
   "version": "3.12.8"
  }
 },
 "nbformat": 4,
 "nbformat_minor": 2
}
